{
 "cells": [
  {
   "cell_type": "markdown",
   "id": "85ebf783-6bc8-41b3-a4bc-ca2d7f6d3c66",
   "metadata": {},
   "source": [
    "# Student recommender system using Skills, Interests and Red flags"
   ]
  },
  {
   "cell_type": "code",
   "execution_count": 7,
   "id": "058e2d6c-8a1a-4d09-95a3-ecbcc71115b2",
   "metadata": {},
   "outputs": [],
   "source": [
    "import pandas as pd\n",
    "import numpy as np\n",
    "from sklearn.preprocessing import MultiLabelBinarizer\n",
    "from sklearn.neighbors import NearestNeighbors\n",
    "from scipy.sparse import csr_matrix\n",
    "import pickle"
   ]
  },
  {
   "cell_type": "code",
   "execution_count": 8,
   "id": "d96ab7ab-fd99-49e0-a691-8672387348e9",
   "metadata": {},
   "outputs": [],
   "source": [
    "users = pd.read_csv('data/students.csv', sep=',', encoding='latin-1', on_bad_lines='skip')"
   ]
  },
  {
   "cell_type": "code",
   "execution_count": 9,
   "id": "021b8e2c-fed3-4c8f-bc2c-ede4fe0e9f45",
   "metadata": {},
   "outputs": [
    {
     "data": {
      "text/html": [
       "<div>\n",
       "<style scoped>\n",
       "    .dataframe tbody tr th:only-of-type {\n",
       "        vertical-align: middle;\n",
       "    }\n",
       "\n",
       "    .dataframe tbody tr th {\n",
       "        vertical-align: top;\n",
       "    }\n",
       "\n",
       "    .dataframe thead th {\n",
       "        text-align: right;\n",
       "    }\n",
       "</style>\n",
       "<table border=\"1\" class=\"dataframe\">\n",
       "  <thead>\n",
       "    <tr style=\"text-align: right;\">\n",
       "      <th></th>\n",
       "      <th>Student-ID</th>\n",
       "      <th>Skills</th>\n",
       "      <th>Interests</th>\n",
       "      <th>Red-Flags</th>\n",
       "    </tr>\n",
       "  </thead>\n",
       "  <tbody>\n",
       "    <tr>\n",
       "      <th>0</th>\n",
       "      <td>65787026f9984c068f184133</td>\n",
       "      <td>Java,Angular</td>\n",
       "      <td>hhhh,jjjjj,hhdjdjdj</td>\n",
       "      <td>hahahah,hdhsj</td>\n",
       "    </tr>\n",
       "    <tr>\n",
       "      <th>1</th>\n",
       "      <td>65787045f9984c068f184134</td>\n",
       "      <td>NodeJs,Angular</td>\n",
       "      <td>oooo,rrrrr,qqqqqqq</td>\n",
       "      <td>hahahah,hdhsj</td>\n",
       "    </tr>\n",
       "    <tr>\n",
       "      <th>2</th>\n",
       "      <td>6578832b0abd9e53cb847bf0</td>\n",
       "      <td>NodeJs,Angular</td>\n",
       "      <td>cats,dogs,qqqqqqq</td>\n",
       "      <td>hahahah,hdhsj</td>\n",
       "    </tr>\n",
       "  </tbody>\n",
       "</table>\n",
       "</div>"
      ],
      "text/plain": [
       "                 Student-ID          Skills            Interests  \\\n",
       "0  65787026f9984c068f184133    Java,Angular  hhhh,jjjjj,hhdjdjdj   \n",
       "1  65787045f9984c068f184134  NodeJs,Angular   oooo,rrrrr,qqqqqqq   \n",
       "2  6578832b0abd9e53cb847bf0  NodeJs,Angular    cats,dogs,qqqqqqq   \n",
       "\n",
       "       Red-Flags  \n",
       "0  hahahah,hdhsj  \n",
       "1  hahahah,hdhsj  \n",
       "2  hahahah,hdhsj  "
      ]
     },
     "execution_count": 9,
     "metadata": {},
     "output_type": "execute_result"
    }
   ],
   "source": [
    "users.head(30)"
   ]
  },
  {
   "cell_type": "code",
   "execution_count": 10,
   "id": "0219b3a2-ea30-4a96-8c7f-67cc4f0760ff",
   "metadata": {},
   "outputs": [
    {
     "data": {
      "text/plain": [
       "Index(['Student-ID', 'Skills', 'Interests', 'Red-Flags'], dtype='object')"
      ]
     },
     "execution_count": 10,
     "metadata": {},
     "output_type": "execute_result"
    }
   ],
   "source": [
    "users.columns"
   ]
  },
  {
   "cell_type": "code",
   "execution_count": 11,
   "id": "3d39ee41-b0fd-486e-bf48-c64c184a999b",
   "metadata": {},
   "outputs": [],
   "source": [
    "users.rename(columns={\n",
    "    \"Student-ID\": \"student_id\",\n",
    "    \"Skills\": \"skills\",\n",
    "    \"Interests\": \"interests\",\n",
    "    \"Red-Flags\": \"red_flags\"\n",
    "}, inplace=True)"
   ]
  },
  {
   "cell_type": "code",
   "execution_count": 12,
   "id": "7de27dbb-c879-42e8-8c30-b3a9e572976d",
   "metadata": {},
   "outputs": [
    {
     "data": {
      "text/html": [
       "<div>\n",
       "<style scoped>\n",
       "    .dataframe tbody tr th:only-of-type {\n",
       "        vertical-align: middle;\n",
       "    }\n",
       "\n",
       "    .dataframe tbody tr th {\n",
       "        vertical-align: top;\n",
       "    }\n",
       "\n",
       "    .dataframe thead th {\n",
       "        text-align: right;\n",
       "    }\n",
       "</style>\n",
       "<table border=\"1\" class=\"dataframe\">\n",
       "  <thead>\n",
       "    <tr style=\"text-align: right;\">\n",
       "      <th></th>\n",
       "      <th>student_id</th>\n",
       "      <th>skills</th>\n",
       "      <th>interests</th>\n",
       "      <th>red_flags</th>\n",
       "    </tr>\n",
       "  </thead>\n",
       "  <tbody>\n",
       "    <tr>\n",
       "      <th>0</th>\n",
       "      <td>65787026f9984c068f184133</td>\n",
       "      <td>Java,Angular</td>\n",
       "      <td>hhhh,jjjjj,hhdjdjdj</td>\n",
       "      <td>hahahah,hdhsj</td>\n",
       "    </tr>\n",
       "    <tr>\n",
       "      <th>1</th>\n",
       "      <td>65787045f9984c068f184134</td>\n",
       "      <td>NodeJs,Angular</td>\n",
       "      <td>oooo,rrrrr,qqqqqqq</td>\n",
       "      <td>hahahah,hdhsj</td>\n",
       "    </tr>\n",
       "    <tr>\n",
       "      <th>2</th>\n",
       "      <td>6578832b0abd9e53cb847bf0</td>\n",
       "      <td>NodeJs,Angular</td>\n",
       "      <td>cats,dogs,qqqqqqq</td>\n",
       "      <td>hahahah,hdhsj</td>\n",
       "    </tr>\n",
       "  </tbody>\n",
       "</table>\n",
       "</div>"
      ],
      "text/plain": [
       "                 student_id          skills            interests  \\\n",
       "0  65787026f9984c068f184133    Java,Angular  hhhh,jjjjj,hhdjdjdj   \n",
       "1  65787045f9984c068f184134  NodeJs,Angular   oooo,rrrrr,qqqqqqq   \n",
       "2  6578832b0abd9e53cb847bf0  NodeJs,Angular    cats,dogs,qqqqqqq   \n",
       "\n",
       "       red_flags  \n",
       "0  hahahah,hdhsj  \n",
       "1  hahahah,hdhsj  \n",
       "2  hahahah,hdhsj  "
      ]
     },
     "execution_count": 12,
     "metadata": {},
     "output_type": "execute_result"
    }
   ],
   "source": [
    "users.head()"
   ]
  },
  {
   "cell_type": "code",
   "execution_count": 13,
   "id": "0bfbaaaf-1e32-4e85-a608-b127c6f9dbf0",
   "metadata": {},
   "outputs": [],
   "source": [
    "users.fillna('', inplace=True)"
   ]
  },
  {
   "cell_type": "code",
   "execution_count": 14,
   "id": "79dfc210-fe5d-4844-90f3-2ce3e675e273",
   "metadata": {},
   "outputs": [
    {
     "data": {
      "text/html": [
       "<div>\n",
       "<style scoped>\n",
       "    .dataframe tbody tr th:only-of-type {\n",
       "        vertical-align: middle;\n",
       "    }\n",
       "\n",
       "    .dataframe tbody tr th {\n",
       "        vertical-align: top;\n",
       "    }\n",
       "\n",
       "    .dataframe thead th {\n",
       "        text-align: right;\n",
       "    }\n",
       "</style>\n",
       "<table border=\"1\" class=\"dataframe\">\n",
       "  <thead>\n",
       "    <tr style=\"text-align: right;\">\n",
       "      <th></th>\n",
       "      <th>student_id</th>\n",
       "      <th>skills</th>\n",
       "      <th>interests</th>\n",
       "      <th>red_flags</th>\n",
       "    </tr>\n",
       "  </thead>\n",
       "  <tbody>\n",
       "    <tr>\n",
       "      <th>0</th>\n",
       "      <td>65787026f9984c068f184133</td>\n",
       "      <td>Java,Angular</td>\n",
       "      <td>hhhh,jjjjj,hhdjdjdj</td>\n",
       "      <td>hahahah,hdhsj</td>\n",
       "    </tr>\n",
       "    <tr>\n",
       "      <th>1</th>\n",
       "      <td>65787045f9984c068f184134</td>\n",
       "      <td>NodeJs,Angular</td>\n",
       "      <td>oooo,rrrrr,qqqqqqq</td>\n",
       "      <td>hahahah,hdhsj</td>\n",
       "    </tr>\n",
       "    <tr>\n",
       "      <th>2</th>\n",
       "      <td>6578832b0abd9e53cb847bf0</td>\n",
       "      <td>NodeJs,Angular</td>\n",
       "      <td>cats,dogs,qqqqqqq</td>\n",
       "      <td>hahahah,hdhsj</td>\n",
       "    </tr>\n",
       "  </tbody>\n",
       "</table>\n",
       "</div>"
      ],
      "text/plain": [
       "                 student_id          skills            interests  \\\n",
       "0  65787026f9984c068f184133    Java,Angular  hhhh,jjjjj,hhdjdjdj   \n",
       "1  65787045f9984c068f184134  NodeJs,Angular   oooo,rrrrr,qqqqqqq   \n",
       "2  6578832b0abd9e53cb847bf0  NodeJs,Angular    cats,dogs,qqqqqqq   \n",
       "\n",
       "       red_flags  \n",
       "0  hahahah,hdhsj  \n",
       "1  hahahah,hdhsj  \n",
       "2  hahahah,hdhsj  "
      ]
     },
     "execution_count": 14,
     "metadata": {},
     "output_type": "execute_result"
    }
   ],
   "source": [
    "users.head()"
   ]
  },
  {
   "cell_type": "code",
   "execution_count": 15,
   "id": "9c2ae71f-a526-4970-8883-810e6f8dc354",
   "metadata": {},
   "outputs": [],
   "source": [
    "users['skills'] = users['skills'].apply(lambda x: x.split(','))\n",
    "users['interests'] = users['interests'].apply(lambda x: x.split(','))\n",
    "users['red_flags'] = users['red_flags'].apply(lambda x: x.split(','))"
   ]
  },
  {
   "cell_type": "code",
   "execution_count": 16,
   "id": "9f1d33a4-db8b-4e33-a6d6-aec533a9c8dc",
   "metadata": {},
   "outputs": [
    {
     "name": "stdout",
     "output_type": "stream",
     "text": [
      "                 student_id             skills                interests  \\\n",
      "1  65787045f9984c068f184134  [NodeJs, Angular]   [oooo, rrrrr, qqqqqqq]   \n",
      "2  6578832b0abd9e53cb847bf0  [NodeJs, Angular]    [cats, dogs, qqqqqqq]   \n",
      "0  65787026f9984c068f184133    [Java, Angular]  [hhhh, jjjjj, hhdjdjdj]   \n",
      "\n",
      "          red_flags  \n",
      "1  [hahahah, hdhsj]  \n",
      "2  [hahahah, hdhsj]  \n",
      "0  [hahahah, hdhsj]  \n"
     ]
    }
   ],
   "source": [
    "print(users.sample(3))"
   ]
  },
  {
   "cell_type": "code",
   "execution_count": 17,
   "id": "f74e7221-5615-4cde-8669-591e3e0ab761",
   "metadata": {},
   "outputs": [],
   "source": [
    "mlb = MultiLabelBinarizer()\n",
    "skills_onehot = pd.DataFrame(mlb.fit_transform(users['skills']), columns=mlb.classes_)\n",
    "interests_onehot = pd.DataFrame(mlb.fit_transform(users['interests']), columns=mlb.classes_)\n",
    "red_flags_onehot = pd.DataFrame(mlb.fit_transform(users['red_flags']), columns=mlb.classes_)"
   ]
  },
  {
   "cell_type": "code",
   "execution_count": 18,
   "id": "1299799a-ac0c-451e-9ebf-a2e5ca485126",
   "metadata": {},
   "outputs": [
    {
     "data": {
      "text/html": [
       "<div>\n",
       "<style scoped>\n",
       "    .dataframe tbody tr th:only-of-type {\n",
       "        vertical-align: middle;\n",
       "    }\n",
       "\n",
       "    .dataframe tbody tr th {\n",
       "        vertical-align: top;\n",
       "    }\n",
       "\n",
       "    .dataframe thead th {\n",
       "        text-align: right;\n",
       "    }\n",
       "</style>\n",
       "<table border=\"1\" class=\"dataframe\">\n",
       "  <thead>\n",
       "    <tr style=\"text-align: right;\">\n",
       "      <th></th>\n",
       "      <th>Angular</th>\n",
       "      <th>Java</th>\n",
       "      <th>NodeJs</th>\n",
       "    </tr>\n",
       "  </thead>\n",
       "  <tbody>\n",
       "    <tr>\n",
       "      <th>0</th>\n",
       "      <td>1</td>\n",
       "      <td>1</td>\n",
       "      <td>0</td>\n",
       "    </tr>\n",
       "    <tr>\n",
       "      <th>1</th>\n",
       "      <td>1</td>\n",
       "      <td>0</td>\n",
       "      <td>1</td>\n",
       "    </tr>\n",
       "    <tr>\n",
       "      <th>2</th>\n",
       "      <td>1</td>\n",
       "      <td>0</td>\n",
       "      <td>1</td>\n",
       "    </tr>\n",
       "  </tbody>\n",
       "</table>\n",
       "</div>"
      ],
      "text/plain": [
       "   Angular  Java  NodeJs\n",
       "0        1     1       0\n",
       "1        1     0       1\n",
       "2        1     0       1"
      ]
     },
     "execution_count": 18,
     "metadata": {},
     "output_type": "execute_result"
    }
   ],
   "source": [
    "skills_onehot"
   ]
  },
  {
   "cell_type": "code",
   "execution_count": 28,
   "id": "e63c3676-6e4f-4107-8f42-1c24e1c63f09",
   "metadata": {},
   "outputs": [],
   "source": [
    "encoded_features = pd.concat([skills_onehot, interests_onehot, red_flags_onehot], axis=1)"
   ]
  },
  {
   "cell_type": "code",
   "execution_count": 29,
   "id": "b0224280-ed8f-45a7-bf8d-ca64fd858e17",
   "metadata": {},
   "outputs": [],
   "source": [
    "skills_matrix = csr_matrix(encoded_features)"
   ]
  },
  {
   "cell_type": "code",
   "execution_count": 42,
   "id": "69ce42b5-00d8-46f8-9f16-fe2dcf363f91",
   "metadata": {},
   "outputs": [
    {
     "data": {
      "text/html": [
       "<style>#sk-container-id-3 {color: black;}#sk-container-id-3 pre{padding: 0;}#sk-container-id-3 div.sk-toggleable {background-color: white;}#sk-container-id-3 label.sk-toggleable__label {cursor: pointer;display: block;width: 100%;margin-bottom: 0;padding: 0.3em;box-sizing: border-box;text-align: center;}#sk-container-id-3 label.sk-toggleable__label-arrow:before {content: \"▸\";float: left;margin-right: 0.25em;color: #696969;}#sk-container-id-3 label.sk-toggleable__label-arrow:hover:before {color: black;}#sk-container-id-3 div.sk-estimator:hover label.sk-toggleable__label-arrow:before {color: black;}#sk-container-id-3 div.sk-toggleable__content {max-height: 0;max-width: 0;overflow: hidden;text-align: left;background-color: #f0f8ff;}#sk-container-id-3 div.sk-toggleable__content pre {margin: 0.2em;color: black;border-radius: 0.25em;background-color: #f0f8ff;}#sk-container-id-3 input.sk-toggleable__control:checked~div.sk-toggleable__content {max-height: 200px;max-width: 100%;overflow: auto;}#sk-container-id-3 input.sk-toggleable__control:checked~label.sk-toggleable__label-arrow:before {content: \"▾\";}#sk-container-id-3 div.sk-estimator input.sk-toggleable__control:checked~label.sk-toggleable__label {background-color: #d4ebff;}#sk-container-id-3 div.sk-label input.sk-toggleable__control:checked~label.sk-toggleable__label {background-color: #d4ebff;}#sk-container-id-3 input.sk-hidden--visually {border: 0;clip: rect(1px 1px 1px 1px);clip: rect(1px, 1px, 1px, 1px);height: 1px;margin: -1px;overflow: hidden;padding: 0;position: absolute;width: 1px;}#sk-container-id-3 div.sk-estimator {font-family: monospace;background-color: #f0f8ff;border: 1px dotted black;border-radius: 0.25em;box-sizing: border-box;margin-bottom: 0.5em;}#sk-container-id-3 div.sk-estimator:hover {background-color: #d4ebff;}#sk-container-id-3 div.sk-parallel-item::after {content: \"\";width: 100%;border-bottom: 1px solid gray;flex-grow: 1;}#sk-container-id-3 div.sk-label:hover label.sk-toggleable__label {background-color: #d4ebff;}#sk-container-id-3 div.sk-serial::before {content: \"\";position: absolute;border-left: 1px solid gray;box-sizing: border-box;top: 0;bottom: 0;left: 50%;z-index: 0;}#sk-container-id-3 div.sk-serial {display: flex;flex-direction: column;align-items: center;background-color: white;padding-right: 0.2em;padding-left: 0.2em;position: relative;}#sk-container-id-3 div.sk-item {position: relative;z-index: 1;}#sk-container-id-3 div.sk-parallel {display: flex;align-items: stretch;justify-content: center;background-color: white;position: relative;}#sk-container-id-3 div.sk-item::before, #sk-container-id-3 div.sk-parallel-item::before {content: \"\";position: absolute;border-left: 1px solid gray;box-sizing: border-box;top: 0;bottom: 0;left: 50%;z-index: -1;}#sk-container-id-3 div.sk-parallel-item {display: flex;flex-direction: column;z-index: 1;position: relative;background-color: white;}#sk-container-id-3 div.sk-parallel-item:first-child::after {align-self: flex-end;width: 50%;}#sk-container-id-3 div.sk-parallel-item:last-child::after {align-self: flex-start;width: 50%;}#sk-container-id-3 div.sk-parallel-item:only-child::after {width: 0;}#sk-container-id-3 div.sk-dashed-wrapped {border: 1px dashed gray;margin: 0 0.4em 0.5em 0.4em;box-sizing: border-box;padding-bottom: 0.4em;background-color: white;}#sk-container-id-3 div.sk-label label {font-family: monospace;font-weight: bold;display: inline-block;line-height: 1.2em;}#sk-container-id-3 div.sk-label-container {text-align: center;}#sk-container-id-3 div.sk-container {/* jupyter's `normalize.less` sets `[hidden] { display: none; }` but bootstrap.min.css set `[hidden] { display: none !important; }` so we also need the `!important` here to be able to override the default hidden behavior on the sphinx rendered scikit-learn.org. See: https://github.com/scikit-learn/scikit-learn/issues/21755 */display: inline-block !important;position: relative;}#sk-container-id-3 div.sk-text-repr-fallback {display: none;}</style><div id=\"sk-container-id-3\" class=\"sk-top-container\"><div class=\"sk-text-repr-fallback\"><pre>NearestNeighbors(algorithm=&#x27;brute&#x27;)</pre><b>In a Jupyter environment, please rerun this cell to show the HTML representation or trust the notebook. <br />On GitHub, the HTML representation is unable to render, please try loading this page with nbviewer.org.</b></div><div class=\"sk-container\" hidden><div class=\"sk-item\"><div class=\"sk-estimator sk-toggleable\"><input class=\"sk-toggleable__control sk-hidden--visually\" id=\"sk-estimator-id-3\" type=\"checkbox\" checked><label for=\"sk-estimator-id-3\" class=\"sk-toggleable__label sk-toggleable__label-arrow\">NearestNeighbors</label><div class=\"sk-toggleable__content\"><pre>NearestNeighbors(algorithm=&#x27;brute&#x27;)</pre></div></div></div></div></div>"
      ],
      "text/plain": [
       "NearestNeighbors(algorithm='brute')"
      ]
     },
     "execution_count": 42,
     "metadata": {},
     "output_type": "execute_result"
    }
   ],
   "source": [
    "model = NearestNeighbors(algorithm='brute')\n",
    "model.fit(skills_matrix)"
   ]
  },
  {
   "cell_type": "code",
   "execution_count": 43,
   "id": "4c769dfb-049a-4ea6-824a-491858f9af3e",
   "metadata": {},
   "outputs": [],
   "source": [
    "pickle.dump(model, open('artifacts/model.pkl', 'wb'))\n",
    "pickle.dump(users['student_id'], open('artifacts/students_id.pkl', 'wb'))\n",
    "pickle.dump(users, open('artifacts/students.pkl', 'wb'))\n",
    "pickle.dump(skills_matrix, open('artifacts/skills_matrix.pkl', 'wb'))"
   ]
  },
  {
   "cell_type": "code",
   "execution_count": 44,
   "id": "38aa3a74-f0e4-41b8-9f41-e050999915fb",
   "metadata": {},
   "outputs": [],
   "source": [
    "def recommend_student(student_id):\n",
    "    if student_id not in users['student_id'].values:\n",
    "        print(f\"Student with ID {student_id} not found.\")\n",
    "        return\n",
    "\n",
    "    student_index = np.where(users['student_id'] == student_id)[0][0]\n",
    "    current_student_red_flags = users.loc[student_index, 'red_flags']\n",
    "    \n",
    "    # Find red flags to exclude\n",
    "    exclude_red_flags = set(flag for flag in current_student_red_flags if \n",
    "                            (users['interests'].apply(lambda x: flag in x)).sum() >= 3)\n",
    "    \n",
    "    # Find students to exclude\n",
    "    exclude_students = set()\n",
    "    for index, row in users.iterrows():\n",
    "        if any(flag in row['interests'] for flag in exclude_red_flags):\n",
    "            exclude_students.add(row['student_id'])\n",
    "    \n",
    "    # Find similar students using the model\n",
    "    distance, suggestion = model.kneighbors(skills_matrix[student_index, :].reshape(1, -1), n_neighbors=3)\n",
    "    \n",
    "    # Print recommended student IDs, excluding those with common red_flags\n",
    "    for i in range(len(suggestion)):\n",
    "        similar_students = users['student_id'].iloc[suggestion[i]]\n",
    "        for j in similar_students:\n",
    "            if j not in exclude_students:\n",
    "                print(j)"
   ]
  },
  {
   "cell_type": "code",
   "execution_count": 45,
   "id": "87046d91-d64b-4929-a1d9-3faabc411d88",
   "metadata": {},
   "outputs": [
    {
     "name": "stdout",
     "output_type": "stream",
     "text": [
      "65787045f9984c068f184134\n",
      "6578832b0abd9e53cb847bf0\n",
      "65787026f9984c068f184133\n"
     ]
    }
   ],
   "source": [
    "student_id_to_recommend = \"65787045f9984c068f184134\"\n",
    "recommend_student(student_id_to_recommend)"
   ]
  },
  {
   "cell_type": "code",
   "execution_count": null,
   "id": "ba0b5090-0d29-42f6-81ea-b7a3b8366116",
   "metadata": {},
   "outputs": [],
   "source": []
  },
  {
   "cell_type": "code",
   "execution_count": null,
   "id": "fe1b91be-e56a-4ff5-8cce-b7f2c79317a5",
   "metadata": {},
   "outputs": [],
   "source": []
  },
  {
   "cell_type": "code",
   "execution_count": null,
   "id": "38de2db2-a787-4728-a598-807475d45d79",
   "metadata": {},
   "outputs": [],
   "source": []
  }
 ],
 "metadata": {
  "kernelspec": {
   "display_name": "Python 3 (ipykernel)",
   "language": "python",
   "name": "python3"
  },
  "language_info": {
   "codemirror_mode": {
    "name": "ipython",
    "version": 3
   },
   "file_extension": ".py",
   "mimetype": "text/x-python",
   "name": "python",
   "nbconvert_exporter": "python",
   "pygments_lexer": "ipython3",
   "version": "3.12.1"
  }
 },
 "nbformat": 4,
 "nbformat_minor": 5
}
